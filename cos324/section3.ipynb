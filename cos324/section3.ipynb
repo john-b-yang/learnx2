{
 "cells": [
  {
   "cell_type": "code",
   "execution_count": 1,
   "id": "7a123a69",
   "metadata": {},
   "outputs": [
    {
     "name": "stderr",
     "output_type": "stream",
     "text": [
      "/Users/johnyang/anaconda3/envs/learn/lib/python3.7/site-packages/tqdm/auto.py:22: TqdmWarning: IProgress not found. Please update jupyter and ipywidgets. See https://ipywidgets.readthedocs.io/en/stable/user_install.html\n",
      "  from .autonotebook import tqdm as notebook_tqdm\n"
     ]
    }
   ],
   "source": [
    "# import necessary packages\n",
    "import numpy as np\n",
    "import torch\n",
    "import torch.nn as nn"
   ]
  },
  {
   "cell_type": "markdown",
   "id": "cc01caa1",
   "metadata": {},
   "source": [
    "# Section 3"
   ]
  },
  {
   "cell_type": "markdown",
   "id": "16da993b",
   "metadata": {},
   "source": [
    "### 11.5 FFNN in Programming"
   ]
  },
  {
   "cell_type": "code",
   "execution_count": 4,
   "id": "67212956",
   "metadata": {},
   "outputs": [],
   "source": [
    "# define neural network\n",
    "class Net(nn.Module):\n",
    "    def __init__(self, input_size=2, hidden_dim1=2, hidden_dim2=3, hidden_dim3=2):\n",
    "        super(Net, self).__init__()\n",
    "        \n",
    "        self.hidden1 = nn.Linear(input_size, hidden_dim1, bias=False)\n",
    "        self.hidden1.weight = nn.Parameter(torch.tensor([[-2.,1.], [3.,-1.]]))\n",
    "        \n",
    "        self.hidden2 = nn.Linear(hidden_dim1, hidden_dim2, bias=False)\n",
    "        self.hidden2.weight = nn.Parameter(torch.tensor([[0.,1.], [2.,-1.], [1.,2.]]))\n",
    "        \n",
    "        self.hidden3 = nn.Linear(hidden_dim2, hidden_dim3, bias=False)\n",
    "        self.hidden3.weight = nn.Parameter(torch.tensor([[-1.,2.,1.], [3.,0.,0.]]))\n",
    "        \n",
    "        self.activation = nn.ReLU()\n",
    "    \n",
    "    # single step of forward propagation\n",
    "    def forward(self, x):\n",
    "        h1 = self.hidden1(x)\n",
    "        h1 = self.activation(h1)\n",
    "        h2 = self.hidden2(h1)\n",
    "        h2 = self.activation(h2)\n",
    "        h3 = self.hidden3(h2)\n",
    "        return h3"
   ]
  },
  {
   "cell_type": "code",
   "execution_count": 5,
   "id": "4645494b",
   "metadata": {},
   "outputs": [
    {
     "name": "stdout",
     "output_type": "stream",
     "text": [
      "Predicted value: tensor([ 8., 24.], grad_fn=<SqueezeBackward3>)\n"
     ]
    }
   ],
   "source": [
    "net = Net()\n",
    "\n",
    "# forward propagation with sample input\n",
    "x = torch.tensor([3., 1.])\n",
    "y_pred = net.forward(x)\n",
    "print(\"Predicted value:\", y_pred)"
   ]
  },
  {
   "cell_type": "code",
   "execution_count": 6,
   "id": "2bca40b5",
   "metadata": {},
   "outputs": [
    {
     "name": "stdout",
     "output_type": "stream",
     "text": [
      "tensor(1.1921e-07, grad_fn=<NllLossBackward0>)\n",
      "tensor([[ 0.0000e+00,  0.0000e+00],\n",
      "        [-7.3528e-07, -2.4509e-07]])\n"
     ]
    }
   ],
   "source": [
    "# backpropagation with sample input\n",
    "loss = nn.functional.cross_entropy(y_pred.unsqueeze(0), torch.LongTensor([1]))\n",
    "loss.backward()\n",
    "print(loss)\n",
    "print(net.hidden1.weight.grad)"
   ]
  },
  {
   "cell_type": "markdown",
   "id": "7a5413b9",
   "metadata": {},
   "source": [
    "### 12.4 CNN in Programming"
   ]
  },
  {
   "cell_type": "code",
   "execution_count": 5,
   "id": "a43e7656",
   "metadata": {},
   "outputs": [],
   "source": [
    "# import necessary packages\n",
    "import random\n",
    "import numpy as np\n",
    "import torch\n",
    "import torch.nn as nn\n",
    "import torch.nn.functional as F\n",
    "import torchvision\n",
    "import torchvision.transforms as transforms\n",
    "from torch.utils.data import DataLoader"
   ]
  },
  {
   "cell_type": "code",
   "execution_count": 6,
   "id": "580ae145",
   "metadata": {},
   "outputs": [],
   "source": [
    "# set random seeds to ensure reproducibility\n",
    "torch.manual_seed(0)\n",
    "np.random.seed(0)\n",
    "random.seed(0)"
   ]
  },
  {
   "cell_type": "code",
   "execution_count": 8,
   "id": "dd6092df",
   "metadata": {},
   "outputs": [
    {
     "name": "stdout",
     "output_type": "stream",
     "text": [
      "Downloading https://www.cs.toronto.edu/~kriz/cifar-10-python.tar.gz to ./data/cifar-10-python.tar.gz\n"
     ]
    },
    {
     "name": "stderr",
     "output_type": "stream",
     "text": [
      "100%|███████████████████████████████████████████████████████████████████████████████████████████████████████████| 170498071/170498071 [00:25<00:00, 6790838.53it/s]\n"
     ]
    },
    {
     "name": "stdout",
     "output_type": "stream",
     "text": [
      "Extracting ./data/cifar-10-python.tar.gz to ./data\n"
     ]
    }
   ],
   "source": [
    "# Normalize the dataset with a mean of 0.5 and standard deviation of 0.5 per color channel\n",
    "transform = transforms.Compose(\n",
    "    [transforms.ToTensor(),\n",
    "     transforms.Normalize((0.5, 0.5, 0.5), (0.5, 0.5, 0.5))])\n",
    "\n",
    "# load CIFAR10 data\n",
    "train_data = torchvision.datasets.CIFAR10(root='./data', train=True, download=True, transform=transform)\n",
    "test_data  = torchvision.datasets.CIFAR10(root='./data', train=False, transform=transform)"
   ]
  },
  {
   "cell_type": "code",
   "execution_count": 9,
   "id": "55577e58",
   "metadata": {},
   "outputs": [],
   "source": [
    "# object to iterate through train/test data in batches\n",
    "train_loader = DataLoader(dataset=train_data, batch_size=8, shuffle=True,  num_workers=0)\n",
    "test_loader  = DataLoader(dataset=test_data,  batch_size=8, shuffle=False, num_workers=0)"
   ]
  },
  {
   "cell_type": "code",
   "execution_count": 13,
   "id": "2f424ad9",
   "metadata": {},
   "outputs": [],
   "source": [
    "# define the CNN architecture\n",
    "class ConvNet(nn.Module):\n",
    "    def __init__(self):\n",
    "        super(ConvNet, self).__init__()\n",
    "        # conv2d takes # input channels, # output channels, kernel size\n",
    "        self.conv1 = nn.Conv2d(3, 3, 5)\n",
    "        self.pool1 = nn.MaxPool2d(2, 2)\n",
    "        self.conv2 = nn.Conv2d(3, 16, 5)\n",
    "        self.pool2 = nn.AvgPool2d(2, 2)\n",
    "        self.fc1 = nn.Linear(16*5*5, 120)\n",
    "        self.fc2 = nn.Linear(120, 10)\n",
    "    \n",
    "    def forward(self, x):\n",
    "        x = F.relu(self.conv1(x))\n",
    "        x = self.pool1(x)\n",
    "        x = F.relu(self.conv2(x))\n",
    "        x = self.pool2(x)\n",
    "        x = x.view(-1, 16*5*5)\n",
    "        x = F.relu(self.fc1(x))\n",
    "        x = self.fc2(x)\n",
    "        \n",
    "        return x"
   ]
  },
  {
   "cell_type": "code",
   "execution_count": 18,
   "id": "55fd25b5",
   "metadata": {},
   "outputs": [],
   "source": [
    "# - Run forward + back propagation on single data point -\n",
    "# Note: Generally, we will train model on entire dataset multiple times\n",
    "\n",
    "net = ConvNet()\n",
    "\n",
    "# choose optimization technique\n",
    "optimizer = torch.optim.SGD(net.parameters(), lr=0.01)\n",
    "\n",
    "# extract one image from dataset\n",
    "images, labels = next(iter(train_loader))\n",
    "image = images[0].unsqueeze(0) # Add one dimension to training data\n",
    "\n",
    "# forward propagation\n",
    "output = net(image)\n",
    "\n",
    "# backpropagation\n",
    "loss = torch.norm(output - torch.ones(output.shape[1]))**2 # squared error loss\n",
    "loss.backward()       # calculate gradients of loss\n",
    "optimizer.step()      # update params according to gradient descent\n",
    "optimizer.zero_grad() # reset values of gradient to zero"
   ]
  },
  {
   "cell_type": "code",
   "execution_count": null,
   "id": "d2f404d6",
   "metadata": {},
   "outputs": [],
   "source": []
  }
 ],
 "metadata": {
  "kernelspec": {
   "display_name": "Python 3 (ipykernel)",
   "language": "python",
   "name": "python3"
  },
  "language_info": {
   "codemirror_mode": {
    "name": "ipython",
    "version": 3
   },
   "file_extension": ".py",
   "mimetype": "text/x-python",
   "name": "python",
   "nbconvert_exporter": "python",
   "pygments_lexer": "ipython3",
   "version": "3.7.11"
  }
 },
 "nbformat": 4,
 "nbformat_minor": 5
}
