{
 "cells": [
  {
   "cell_type": "code",
   "execution_count": 185,
   "id": "e0954674",
   "metadata": {},
   "outputs": [],
   "source": [
    "# Imports\n",
    "import numpy as np\n",
    "import matplotlib.pyplot as plt\n",
    "\n",
    "from PIL import Image\n",
    "from sklearn.datasets import load_digits\n",
    "from sklearn.preprocessing import normalize, scale\n",
    "from sklearn.decomposition import PCA"
   ]
  },
  {
   "cell_type": "markdown",
   "id": "b5fb138d",
   "metadata": {},
   "source": [
    "# Section 2\n",
    "Original notes [here](https://princeton-introml.github.io/)"
   ]
  },
  {
   "cell_type": "code",
   "execution_count": 268,
   "id": "6399aaaf",
   "metadata": {},
   "outputs": [],
   "source": [
    "# Load MNIST Dataset\n",
    "k = 2 # Feel free to change this!\n",
    "X_, _ = load_digits(n_class=k, return_X_y=True)"
   ]
  },
  {
   "cell_type": "code",
   "execution_count": 256,
   "id": "b755b778",
   "metadata": {},
   "outputs": [],
   "source": [
    "# Data Visualization:\n",
    "# - So far, we've loaded images corresponding to two digits: 0 and 1!\n",
    "# - Within X, each row is a flat vector of size 64 corrersponding to an 8x8 image\n",
    "# - To get a sense of the image data, the following 3 lines should create a picture of a tiny 0!\n",
    "X[0].reshape((8,8))\n",
    "img = Image.fromarray(np.uint8(X[0].reshape((8,8))*16), 'L')\n",
    "img.show()"
   ]
  },
  {
   "cell_type": "code",
   "execution_count": 269,
   "id": "e96d640e",
   "metadata": {},
   "outputs": [],
   "source": [
    "# Prepare Data\n",
    "X = scale(X_) # Normalize data\n",
    "X_train, X_test = X[:int(len(X)*0.8)], X[int(len(X)*0.8):] # 20% Test"
   ]
  },
  {
   "cell_type": "code",
   "execution_count": 270,
   "id": "e234eeff",
   "metadata": {},
   "outputs": [],
   "source": [
    "# Define functions    \n",
    "def initialize_cluster_mean(X, k):\n",
    "    # X: array of shape (n, d), each row is a d-dimensional data point\n",
    "    # k: number of clusters\n",
    "    # returns Y: array of shape (k, d), each row is the center of a cluster\n",
    "    \n",
    "    # -- k-means++ Initialization --\n",
    "    \n",
    "    # Pick random initial center\n",
    "    init_idx = np.random.choice(len(X))\n",
    "    Y = [X[init_idx]]\n",
    "    \n",
    "    # Repeat this step k times\n",
    "    for _ in range(k-1):\n",
    "        # Array of distances(point, center)\n",
    "        weights = []\n",
    "        \n",
    "        # For each point...\n",
    "        for x in X:\n",
    "            # Distance to nearest center\n",
    "            nearest = min([np.linalg.norm(x - center) for center in Y])\n",
    "            weights.append(nearest**2)\n",
    "        \n",
    "        # Pick random center w/ prob. weighted by distances^2\n",
    "        weights = np.array(weights)\n",
    "        weights = normalize(\n",
    "            weights[:,np.newaxis],\n",
    "            axis=0,\n",
    "            norm='l1'\n",
    "        ).ravel()\n",
    "        idx = np.random.choice(len(X), size=1, p=weights)\n",
    "        Y.append(X[idx])\n",
    "    \n",
    "    assert len(Y) == k\n",
    "    return Y\n",
    "\n",
    "def assign_cluster(X, Y):\n",
    "    # X: array of shape (n, d), each row is a d-dimensional data point\n",
    "    # Y: array of shape (k, d), each row is the center of a cluster\n",
    "    # returns loss, the sum of squared distance from each point to its assigned cluster\n",
    "    # returns C: array of shape (n), each value is the index of the closest cluster\n",
    "    \n",
    "    loss, C = 0, []\n",
    "    \n",
    "    for x in X:\n",
    "        # Find nearest center to point\n",
    "        distance, nearest_center_idx = float('inf'), -1\n",
    "        for idx in range(len(Y)):\n",
    "            center = Y[idx]\n",
    "            if distance > np.linalg.norm(x - center):\n",
    "                distance = np.linalg.norm(x - center)\n",
    "                nearest_center_idx = idx\n",
    "        \n",
    "        # Loss = Sum(distance(point to cluster)^2)\n",
    "        loss += distance**2\n",
    "        # Append index of closest center to C\n",
    "        C.append(nearest_center_idx)\n",
    "        \n",
    "    return loss, np.array(C)\n",
    "\n",
    "def update_cluster_mean(X, k, C):\n",
    "    # X: array of shape (n, d), each row is a d-dimensional data point\n",
    "    # k: number of clusters\n",
    "    # C: array of shape (n), each value is the index of the closest cluster\n",
    "    # returns Y: array of shape (k, d), each row is the center of a cluster\n",
    "    \n",
    "    Y = np.array([np.zeros(X.shape[1]) for _ in range(k)])\n",
    "    \n",
    "    # Calculate new centroid = mean of updated clusters\n",
    "    for x, c in list(zip(X, C)):\n",
    "        Y[c] += x\n",
    "    for idx in range(len(Y)):\n",
    "        Y[idx] = Y[idx] / len(y)\n",
    "    return Y"
   ]
  },
  {
   "cell_type": "code",
   "execution_count": 279,
   "id": "a751fdb8",
   "metadata": {},
   "outputs": [],
   "source": [
    "def k_means(X, k, max_iters=50, eps=1e-5):\n",
    "    Y = initialize_cluster_mean(X, k)\n",
    "    \n",
    "    loss, losses = -1, []\n",
    "    for i in range(max_iters):\n",
    "        # Assign points to new clusters according to \n",
    "        loss, C = assign_cluster(X, Y)\n",
    "        Y = update_cluster_mean(X, k, C)\n",
    "        \n",
    "        # Calculate change in loss (conditional captures initial iteration)\n",
    "        loss_change = np.abs(loss - losses[-1]) if len(losses) > 0 else eps + 1\n",
    "        losses.append(loss)\n",
    "        if loss_change < eps:\n",
    "            break\n",
    "    \n",
    "    return loss, C, Y, losses\n",
    "\n",
    "def scatter_plot(X, C):\n",
    "    plt.figure(figsize=(12, 10))\n",
    "    \n",
    "    k = int(C.max()) + 1\n",
    "    from itertools import cycle\n",
    "    colors = cycle('bgrcmk')\n",
    "    \n",
    "    for i in range(k):\n",
    "        idx = (C == i)\n",
    "        plt.scatter(X[idx, 0], X[idx, 1], c=next(colors))\n",
    "    plt.title(\"Scatter Plot of Clusters\")\n",
    "    plt.xlabel(\"Dimension 1\")\n",
    "    plt.ylabel(\"Dimension 2\")\n",
    "    plt.show()"
   ]
  },
  {
   "cell_type": "code",
   "execution_count": 280,
   "id": "4f2ae7f3",
   "metadata": {},
   "outputs": [
    {
     "name": "stdout",
     "output_type": "stream",
     "text": [
      "Losses: [17091.109657429915, 12651.174015486624, 12651.174015486624]\n"
     ]
    },
    {
     "data": {
      "image/png": "[encoded data removed]",
      "text/plain": [
       "<Figure size 864x720 with 1 Axes>"
      ]
     },
     "metadata": {
      "needs_background": "light"
     },
     "output_type": "display_data"
    }
   ],
   "source": [
    "# Run k-means algorithm and plot the result\n",
    "loss, C, Y, losses = k_means(X_train, k)\n",
    "print(\"Losses:\", losses)\n",
    "\n",
    "# Create a 2D plot with axes as 2 most distinguishing features of 64 dims of X_train data\n",
    "low_dim = PCA(n_components=2).fit_transform(X_train)\n",
    "scatter_plot(low_dim, C)"
   ]
  },
  {
   "cell_type": "code",
   "execution_count": null,
   "id": "75b803b7",
   "metadata": {},
   "outputs": [],
   "source": []
  }
 ],
 "metadata": {
  "kernelspec": {
   "display_name": "Python 3 (ipykernel)",
   "language": "python",
   "name": "python3"
  },
  "language_info": {
   "codemirror_mode": {
    "name": "ipython",
    "version": 3
   },
   "file_extension": ".py",
   "mimetype": "text/x-python",
   "name": "python",
   "nbconvert_exporter": "python",
   "pygments_lexer": "ipython3",
   "version": "3.7.11"
  }
 },
 "nbformat": 4,
 "nbformat_minor": 5
}
