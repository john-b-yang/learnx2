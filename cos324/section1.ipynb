{
 "cells": [
  {
   "cell_type": "markdown",
   "id": "94740b3f",
   "metadata": {},
   "source": [
    "### Linear Regression"
   ]
  },
  {
   "cell_type": "markdown",
   "id": "a8674f3f",
   "metadata": {},
   "source": [
    "Section 1.1.4 Example"
   ]
  },
  {
   "cell_type": "code",
   "execution_count": 17,
   "id": "742c1627",
   "metadata": {},
   "outputs": [],
   "source": [
    "import matplotlib.pyplot as plt\n",
    "import numpy as np\n",
    "\n",
    "from sklearn.datasets import load_diabetes\n",
    "from sklearn.model_selection import train_test_split\n",
    "from sklearn.linear_model import LinearRegression\n",
    "from sklearn.metrics import mean_squared_error as mse, r2_score"
   ]
  },
  {
   "cell_type": "code",
   "execution_count": 18,
   "id": "14042342",
   "metadata": {},
   "outputs": [
    {
     "name": "stdout",
     "output_type": "stream",
     "text": [
      "X_train Size: 4\n",
      "X_test Size: 1\n"
     ]
    }
   ],
   "source": [
    "# Prepare Data\n",
    "X = [[0, 1], [2, 3], [4, 5], [6, 7], [8, 9]]\n",
    "y = [1, 1, 1, -1, -1]\n",
    "\n",
    "X_train, X_test, y_train, y_test = train_test_split(X, y, test_size=0.2)\n",
    "print(f'X_train Size: {len(X_train)}')\n",
    "print(f'X_test Size: {len(X_test)}')"
   ]
  },
  {
   "cell_type": "code",
   "execution_count": 19,
   "id": "00828634",
   "metadata": {},
   "outputs": [],
   "source": [
    "# Linear Regression\n",
    "linreg = LinearRegression().fit(X_train, y_train)\n",
    "pred_train = linreg.predict(X_train)\n",
    "pred_test = np.sign(linreg.predict(X_test))"
   ]
  },
  {
   "cell_type": "code",
   "execution_count": 20,
   "id": "b2f84c43",
   "metadata": {},
   "outputs": [
    {
     "data": {
      "text/plain": [
       "[1, 1, -1, -1]"
      ]
     },
     "execution_count": 20,
     "metadata": {},
     "output_type": "execute_result"
    }
   ],
   "source": [
    "y_train[:10]"
   ]
  },
  {
   "cell_type": "code",
   "execution_count": 21,
   "id": "c6150d6f",
   "metadata": {},
   "outputs": [
    {
     "data": {
      "text/plain": [
       "array([ 0.4,  1.2, -1.2, -0.4])"
      ]
     },
     "execution_count": 21,
     "metadata": {},
     "output_type": "execute_result"
    }
   ],
   "source": [
    "pred_train[:10]"
   ]
  },
  {
   "cell_type": "code",
   "execution_count": 22,
   "id": "03f7ddc8",
   "metadata": {},
   "outputs": [
    {
     "name": "stdout",
     "output_type": "stream",
     "text": [
      "Train MSE:  0.2000\n",
      "Test MSE:  0.0000\n",
      "Train Acc:  100.00\n",
      "Test Acc:  100.00\n"
     ]
    }
   ],
   "source": [
    "# Train Results\n",
    "print('Train MSE: ', '{0:.4f}'.format(mse(y_train, pred_train)))\n",
    "print('Test MSE: ', '{0:.4f}'.format(mse(y_test, pred_test)))\n",
    "print('Train Acc: ', '{0:.2f}'.format(100*(np.sign(pred_train)==y_train). mean()))\n",
    "print('Test Acc: ', '{0:.2f}'.format(100*(np.sign(pred_test)==y_test).mean()))"
   ]
  },
  {
   "cell_type": "code",
   "execution_count": 23,
   "id": "64bc9db6",
   "metadata": {},
   "outputs": [
    {
     "data": {
      "text/plain": [
       "Text(0.5, 1.0, 'y vs y hat')"
      ]
     },
     "execution_count": 23,
     "metadata": {},
     "output_type": "execute_result"
    },
    {
     "data": {
      "image/png": "[encoded data removed]",
      "text/plain": [
       "<Figure size 432x288 with 1 Axes>"
      ]
     },
     "metadata": {
      "needs_background": "light"
     },
     "output_type": "display_data"
    }
   ],
   "source": [
    "# Plot gold vs predicted value\n",
    "plt.scatter(y_test, pred_test, c=\"red\")\n",
    "plt.xlabel(\"actual y value (y)\")\n",
    "plt.ylabel(\"predicted y value (y hat)\")\n",
    "plt.title(\"y vs y hat\")"
   ]
  },
  {
   "cell_type": "markdown",
   "id": "51c0c9fe",
   "metadata": {},
   "source": [
    "SK Learn Linear Regressions Example ([Link](https://scikit-learn.org/stable/auto_examples/linear_model/plot_ols.html#sphx-glr-auto-examples-linear-model-plot-ols-py))"
   ]
  },
  {
   "cell_type": "code",
   "execution_count": 24,
   "id": "3bbe1950",
   "metadata": {},
   "outputs": [],
   "source": [
    "# Prepare Data\n",
    "data = load_diabetes(return_X_y=True, as_frame=True)\n",
    "X_train, X_test, y_train, y_test = train_test_split(data[0], data[1], test_size=0.2)\n",
    "\n",
    "# Linear Regression\n",
    "linreg = LinearRegression().fit(X_train, y_train)\n",
    "pred_test = linreg.predict(X_test)"
   ]
  },
  {
   "cell_type": "code",
   "execution_count": 25,
   "id": "84646d99",
   "metadata": {},
   "outputs": [
    {
     "name": "stdout",
     "output_type": "stream",
     "text": [
      "Learned Coefficients: \n",
      " [  -42.00281169  -258.5036676    497.42979724   299.08378126\n",
      " -1022.64416647   691.87294261   196.18403747   174.172403\n",
      "   888.46172187    73.10302013]\n",
      "Mean squared error: 2796.57\n",
      "Coefficient of Determination: 0.57\n"
     ]
    }
   ],
   "source": [
    "# Statistics\n",
    "print(\"Learned Coefficients: \\n\", linreg.coef_)\n",
    "print(\"Mean squared error: %.2f\" % mse(y_test, pred_test))\n",
    "print(\"Coefficient of Determination: %.2f\" % r2_score(y_test, pred_test))"
   ]
  },
  {
   "cell_type": "code",
   "execution_count": 26,
   "id": "70462d88",
   "metadata": {},
   "outputs": [
    {
     "data": {
      "image/png": "[encoded data removed]",
      "text/plain": [
       "<Figure size 432x288 with 1 Axes>"
      ]
     },
     "metadata": {
      "needs_background": "light"
     },
     "output_type": "display_data"
    }
   ],
   "source": [
    "# Plot outputs\n",
    "plt.scatter(pred_test, y_test, color=\"black\")\n",
    "plt.xticks()\n",
    "plt.yticks()\n",
    "plt.show()"
   ]
  }
 ],
 "metadata": {
  "kernelspec": {
   "display_name": "Python 3 (ipykernel)",
   "language": "python",
   "name": "python3"
  },
  "language_info": {
   "codemirror_mode": {
    "name": "ipython",
    "version": 3
   },
   "file_extension": ".py",
   "mimetype": "text/x-python",
   "name": "python",
   "nbconvert_exporter": "python",
   "pygments_lexer": "ipython3",
   "version": "3.7.11"
  }
 },
 "nbformat": 4,
 "nbformat_minor": 5
}
