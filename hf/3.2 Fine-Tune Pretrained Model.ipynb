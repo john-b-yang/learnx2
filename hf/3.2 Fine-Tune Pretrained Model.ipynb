{
 "cells": [
  {
   "cell_type": "markdown",
   "id": "39c907b0",
   "metadata": {},
   "source": [
    "# Fine Tuning a Pretrained Model\n",
    "* Part 2: Using the `Trainer` class to fine tune pretrained models to a dataset\n",
    "\n",
    "This Jupyter Notebook was not fully run due to the execution of the `Trainer` class being much faster using GPUs. A python equivalent and a slurm job have been included in the `runs` folder for the purpose of running the code displayed below."
   ]
  },
  {
   "cell_type": "code",
   "execution_count": 14,
   "id": "7345a5e4",
   "metadata": {},
   "outputs": [],
   "source": [
    "import evaluate\n",
    "import numpy as np\n",
    "\n",
    "from datasets import load_dataset\n",
    "from transformers import (\n",
    "    AutoModelForSequenceClassification,\n",
    "    AutoTokenizer,\n",
    "    DataCollatorWithPadding,\n",
    "    Trainer,\n",
    "    TrainingArguments\n",
    ")"
   ]
  },
  {
   "cell_type": "code",
   "execution_count": 11,
   "id": "cfcade56",
   "metadata": {},
   "outputs": [
    {
     "name": "stderr",
     "output_type": "stream",
     "text": [
      "Found cached dataset glue (/n/fs/nlp-jy1682/hf_datasets/glue/mrpc/1.0.0/dacbe3125aa31d7f70367a07a8a9e72a5a0bfeb5fc42e75c9db75b96da6053ad)\n"
     ]
    },
    {
     "data": {
      "application/vnd.jupyter.widget-view+json": {
       "model_id": "ecfd0bc8fb1e4bddb083f108e5772e5b",
       "version_major": 2,
       "version_minor": 0
      },
      "text/plain": [
       "  0%|          | 0/3 [00:00<?, ?it/s]"
      ]
     },
     "metadata": {},
     "output_type": "display_data"
    },
    {
     "name": "stderr",
     "output_type": "stream",
     "text": [
      "Loading cached processed dataset at /n/fs/nlp-jy1682/hf_datasets/glue/mrpc/1.0.0/dacbe3125aa31d7f70367a07a8a9e72a5a0bfeb5fc42e75c9db75b96da6053ad/cache-2286bfeed35ec98c.arrow\n",
      "Loading cached processed dataset at /n/fs/nlp-jy1682/hf_datasets/glue/mrpc/1.0.0/dacbe3125aa31d7f70367a07a8a9e72a5a0bfeb5fc42e75c9db75b96da6053ad/cache-d2871c4b8b165e62.arrow\n"
     ]
    },
    {
     "data": {
      "application/vnd.jupyter.widget-view+json": {
       "model_id": "227cfa927aff42cfb90e6bf81c062924",
       "version_major": 2,
       "version_minor": 0
      },
      "text/plain": [
       "  0%|          | 0/2 [00:00<?, ?ba/s]"
      ]
     },
     "metadata": {},
     "output_type": "display_data"
    }
   ],
   "source": [
    "# Summary of Chapter 3 so far\n",
    "raw_datasets = load_dataset(\"glue\", \"mrpc\")\n",
    "checkpoint = \"bert-base-uncased\"\n",
    "tokenizer = AutoTokenizer.from_pretrained(checkpoint)\n",
    "\n",
    "def tokenize_function(example):\n",
    "    return tokenizer(example[\"sentence1\"], example[\"sentence2\"], truncation=True)\n",
    "\n",
    "tokenized_datasets = raw_datasets.map(tokenize_function, batched=True)\n",
    "data_collator = DataCollatorWithPadding(tokenizer=tokenizer)"
   ]
  },
  {
   "cell_type": "markdown",
   "id": "62d49b9d",
   "metadata": {},
   "source": [
    "Step 1: Define `TrainingArguments` class that contains all hyperparameters the `Trainer` will use for training + \n",
    "* Only required argument: Directory where trained model + checkpoints are saved"
   ]
  },
  {
   "cell_type": "code",
   "execution_count": 3,
   "id": "cab86eb9",
   "metadata": {},
   "outputs": [
    {
     "name": "stderr",
     "output_type": "stream",
     "text": [
      "/n/fs/nlp-jy1682/miniconda3/envs/learn/lib/python3.8/site-packages/torch/cuda/__init__.py:497: UserWarning: Can't initialize NVML\n",
      "  warnings.warn(\"Can't initialize NVML\")\n"
     ]
    }
   ],
   "source": [
    "training_args = TrainingArguments(\"test-trainer\")"
   ]
  },
  {
   "cell_type": "markdown",
   "id": "9c6281da",
   "metadata": {},
   "source": [
    "Step 2: Define the model"
   ]
  },
  {
   "cell_type": "code",
   "execution_count": 5,
   "id": "c817e4d4",
   "metadata": {},
   "outputs": [
    {
     "name": "stderr",
     "output_type": "stream",
     "text": [
      "Some weights of the model checkpoint at bert-base-uncased were not used when initializing BertForSequenceClassification: ['cls.predictions.bias', 'cls.predictions.transform.dense.weight', 'cls.predictions.transform.LayerNorm.weight', 'cls.predictions.transform.dense.bias', 'cls.seq_relationship.weight', 'cls.predictions.transform.LayerNorm.bias', 'cls.predictions.decoder.weight', 'cls.seq_relationship.bias']\n",
      "- This IS expected if you are initializing BertForSequenceClassification from the checkpoint of a model trained on another task or with another architecture (e.g. initializing a BertForSequenceClassification model from a BertForPreTraining model).\n",
      "- This IS NOT expected if you are initializing BertForSequenceClassification from the checkpoint of a model that you expect to be exactly identical (initializing a BertForSequenceClassification model from a BertForSequenceClassification model).\n",
      "Some weights of BertForSequenceClassification were not initialized from the model checkpoint at bert-base-uncased and are newly initialized: ['classifier.weight', 'classifier.bias']\n",
      "You should probably TRAIN this model on a down-stream task to be able to use it for predictions and inference.\n"
     ]
    }
   ],
   "source": [
    "model = AutoModelForSequenceClassification.from_pretrained(checkpoint, num_labels=2)\n",
    "\n",
    "# Warning explained:\n",
    "# - Reason: BERT has not been pretrained on classifying sentence pairs\n",
    "# - State: Head of pretrained model is discarded, new head has been added\n",
    "# - Warning: Some weights have not been used (the ones of the dropped pretrained head)\n",
    "# - Recommendation: Train the model - What we're going to do!"
   ]
  },
  {
   "cell_type": "markdown",
   "id": "1c6dec32",
   "metadata": {},
   "source": [
    "Step 3: Train the model. Pass in the model, training arguments, train + val datasets, data collator, and tokenizer"
   ]
  },
  {
   "cell_type": "code",
   "execution_count": null,
   "id": "264396ce",
   "metadata": {},
   "outputs": [],
   "source": [
    "trainer = Trainer(\n",
    "    model,\n",
    "    training_args,\n",
    "    train_dataset=tokenized_datasets[\"train\"]\n",
    "    eval_dataset=tokenized_datasets[\"validation\"],\n",
    "    data_collator=data_collator,\n",
    "    tokenizer=tokenizer\n",
    ")\n",
    "trainer.train()\n",
    "\n",
    "# This will start fine-tuning + report training loss every 500 steps\n",
    "# This will *not* tell you anything about model performance\n",
    "# - We did not set `evaluation_strategy` to either \"steps\" or \"epoch\"\n",
    "# - We did not provide Trainer with a `compute_metrics()` function"
   ]
  },
  {
   "cell_type": "markdown",
   "id": "7b052967",
   "metadata": {},
   "source": [
    "Step 4: Add Evaluation\n",
    "* Build a useful `compute_metrics()` function\n",
    "* `compute_metrics()` should take an `EvalPrediction` object (named tuple w/ `predictions`, `label_ids` fields)\n",
    "* `compute_metrics()` should return a dictionary mapping strings to floats\n",
    "    * `string` is name of metric returned\n",
    "    * `float` is the value of the metric"
   ]
  },
  {
   "cell_type": "code",
   "execution_count": null,
   "id": "0f3414ff",
   "metadata": {},
   "outputs": [],
   "source": [
    "# Get predictions from the model\n",
    "predictions = trainer.predict(tokenized_datasets[\"validation\"])\n",
    "print(predictions.predictions.shape, predictions.label_ids.shape) # (408, 2) (408,)"
   ]
  },
  {
   "cell_type": "markdown",
   "id": "e3fcb434",
   "metadata": {},
   "source": [
    "Output of `predict` explained:\n",
    "* Tuple with three fields: `predictions`, `label-ids`, and `metrics`\n",
    "* `metrics` includes loss + some time related things. This would also include `compute_metrics()` values\n",
    "* `predictions` is 2D array with shape 408x2, where each row is logit\n",
    "    * 408 = number of elements in validation set\n",
    "* `label_ids` are ground truth labels"
   ]
  },
  {
   "cell_type": "code",
   "execution_count": null,
   "id": "96cb7c08",
   "metadata": {},
   "outputs": [],
   "source": [
    "# Transform logits into labels\n",
    "preds = np.argmax(predictions.predictions, axis=-1)\n",
    "\n",
    "# Compare predictions to real labels\n",
    "metric = evaluate.load(\"glue\", \"mrpc\")\n",
    "metric.compute(predictions=preds, references=predictions.label_ids)"
   ]
  },
  {
   "cell_type": "code",
   "execution_count": 15,
   "id": "a2a51b5e",
   "metadata": {},
   "outputs": [],
   "source": [
    "# Officially, we can write `compute_metrics` as follows:\n",
    "def compute_metrics(eval_preds):\n",
    "    metric = evaluate.load(\"glue\", \"mrpc\")\n",
    "    logits, labels = eval_preds\n",
    "    predictions = np.argmax(logits, axis=-1)\n",
    "    return metric.compute(predictions=predictions, references=labels)"
   ]
  },
  {
   "cell_type": "markdown",
   "id": "2ac07e10",
   "metadata": {},
   "source": [
    "Summary: New `Trainer` object with `compute_metrics` and additional training arguments"
   ]
  },
  {
   "cell_type": "code",
   "execution_count": null,
   "id": "015842bd",
   "metadata": {},
   "outputs": [],
   "source": [
    "# Tie it all together - new Trainer!\n",
    "training_args = TrainingArguments(\"test-trainer\", evaluation_strategy=\"epoch\")\n",
    "model = AutoModelForSequenceClassification.from_pretrained(checkpoint, num_labels=2)\n",
    "\n",
    "trainer = Trainer(\n",
    "    model,\n",
    "    training_args,\n",
    "    train_dataset=tokenized_datasets[\"train\"],\n",
    "    eval_dataset=tokenized_datasets[\"validation\"],\n",
    "    data_collator=data_collator,\n",
    "    tokenizer=tokenizer,\n",
    "    compute_metrics=compute_metrics\n",
    ")\n",
    "trainer.train()"
   ]
  }
 ],
 "metadata": {
  "kernelspec": {
   "display_name": "Python 3 (ipykernel)",
   "language": "python",
   "name": "python3"
  },
  "language_info": {
   "codemirror_mode": {
    "name": "ipython",
    "version": 3
   },
   "file_extension": ".py",
   "mimetype": "text/x-python",
   "name": "python",
   "nbconvert_exporter": "python",
   "pygments_lexer": "ipython3",
   "version": "3.8.13"
  }
 },
 "nbformat": 4,
 "nbformat_minor": 5
}
