{
 "cells": [
  {
   "cell_type": "markdown",
   "id": "dccbf41c",
   "metadata": {},
   "source": [
    "# Exploratory Data Analysis\n",
    "In this notebook, we will download a sample of the [BDD100K](https://www.bdd100k.com/) semantic segmentation dataset and use W&B Artifacts and Tables to version and analyze our data."
   ]
  },
  {
   "cell_type": "code",
   "execution_count": 5,
   "id": "9ac55397",
   "metadata": {},
   "outputs": [],
   "source": [
    "DEBUG = True"
   ]
  },
  {
   "cell_type": "code",
   "execution_count": 12,
   "id": "8175bf94",
   "metadata": {},
   "outputs": [],
   "source": [
    "import param_list\n",
    "import wandb\n",
    "\n",
    "from fastai.vision.all import *"
   ]
  },
  {
   "cell_type": "markdown",
   "id": "2e1fc5e3",
   "metadata": {},
   "source": [
    "We have defined some global configuration parameters in the `params.py` file. `ENTITY` should correspond to your W&B Team name if you work in a team, replace it with `None` if you work individually.\n",
    "\n",
    "In the section below, we will use `untar_data` function from `fastai` to download and unzip our datasets."
   ]
  },
  {
   "cell_type": "code",
   "execution_count": 7,
   "id": "76b05543",
   "metadata": {},
   "outputs": [
    {
     "data": {
      "text/html": [
       "\n",
       "<style>\n",
       "    /* Turns off some styling */\n",
       "    progress {\n",
       "        /* gets rid of default border in Firefox and Opera. */\n",
       "        border: none;\n",
       "        /* Needs to be in here for Safari polyfill so background images work as expected. */\n",
       "        background-size: auto;\n",
       "    }\n",
       "    progress:not([value]), progress:not([value])::-webkit-progress-bar {\n",
       "        background: repeating-linear-gradient(45deg, #7e7e7e, #7e7e7e 10px, #5c5c5c 10px, #5c5c5c 20px);\n",
       "    }\n",
       "    .progress-bar-interrupted, .progress-bar-interrupted::-webkit-progress-bar {\n",
       "        background: #F44336;\n",
       "    }\n",
       "</style>\n"
      ],
      "text/plain": [
       "<IPython.core.display.HTML object>"
      ]
     },
     "metadata": {},
     "output_type": "display_data"
    },
    {
     "data": {
      "text/html": [
       "\n",
       "    <div>\n",
       "      <progress value='122470400' class='' max='122467691' style='width:300px; height:20px; vertical-align: middle;'></progress>\n",
       "      100.00% [122470400/122467691 00:01&lt;00:00]\n",
       "    </div>\n",
       "    "
      ],
      "text/plain": [
       "<IPython.core.display.HTML object>"
      ]
     },
     "metadata": {},
     "output_type": "display_data"
    }
   ],
   "source": [
    "URL = 'https://storage.googleapis.com/wandb_course/bdd_simple_1k.zip'\n",
    "path = Path(untar_data(URL, force_download=True))"
   ]
  },
  {
   "cell_type": "code",
   "execution_count": 8,
   "id": "d577bf14",
   "metadata": {},
   "outputs": [
    {
     "data": {
      "text/plain": [
       "(#3) [Path('/u/jy1682/.fastai/data/bdd_simple_1k/labels'),Path('/u/jy1682/.fastai/data/bdd_simple_1k/LICENSE.txt'),Path('/u/jy1682/.fastai/data/bdd_simple_1k/images')]"
      ]
     },
     "execution_count": 8,
     "metadata": {},
     "output_type": "execute_result"
    }
   ],
   "source": [
    "path.ls()"
   ]
  },
  {
   "cell_type": "markdown",
   "id": "0b052e0b",
   "metadata": {},
   "source": [
    "Here, we define several functions to help us process the data and upload it as a `Table` to W&B"
   ]
  },
  {
   "cell_type": "code",
   "execution_count": 9,
   "id": "9150d11f",
   "metadata": {},
   "outputs": [],
   "source": [
    "def label_func(fname):\n",
    "    \"Map image file name to location in data\"\n",
    "    return (fname.parent.parent/\"labels\")/f\"{fname.stem}_mask.png\"\n",
    "\n",
    "def get_classes_per_image(mask_data, class_labels):\n",
    "    # Get list of unique data\n",
    "    unique = list(np.unique(mask_data))\n",
    "    result_dict = {}\n",
    "    # Map class labels to data points\n",
    "    for _class in class_labels.keys():\n",
    "        result_dict[class_labels[_class]] = int(_class in unique)\n",
    "    return result_dict\n",
    "\n",
    "def _create_table(image_files, class_labels):\n",
    "    \"Create a table with the dataset\"\n",
    "    labels = [str(class_labels[_lab]) for _lab in list(class_labels)]\n",
    "    table = wandb.Table(columns=[\"File_Name\", \"Images\", \"Split\"] + labels)\n",
    "    \n",
    "    for i, image_file in progress_bar(enumerate(image_files), total=len(image_files)):\n",
    "        image = Image.open(image_file)\n",
    "        mask_data = np.array(Image.open(label_func(image_file)))\n",
    "        class_in_image = get_classes_per_image(mask_data, class_labels)\n",
    "        table.add_data(\n",
    "            str(image_file.name),\n",
    "            wandb.Image(\n",
    "                    image,\n",
    "                    masks={\n",
    "                        \"predictions\": {\n",
    "                            \"mask_data\": mask_data,\n",
    "                            \"class_labels\": class_labels,\n",
    "                        }\n",
    "                    }\n",
    "            ),\n",
    "            \"None\", # we don't have a dataset split yet\n",
    "            *[class_in_image[_lab] for _lab in labels]\n",
    "        )\n",
    "    \n",
    "    return table"
   ]
  },
  {
   "cell_type": "markdown",
   "id": "c79c764e",
   "metadata": {},
   "source": [
    "We will start a new W&B run and put everything into a raw Artifact"
   ]
  },
  {
   "cell_type": "code",
   "execution_count": 14,
   "id": "3a4ab9c7",
   "metadata": {},
   "outputs": [
    {
     "name": "stderr",
     "output_type": "stream",
     "text": [
      "Failed to detect the name of this notebook, you can set it manually with the WANDB_NOTEBOOK_NAME environment variable to enable code saving.\n",
      "\u001b[34m\u001b[1mwandb\u001b[0m: Currently logged in as: \u001b[33mjy-princeton\u001b[0m. Use \u001b[1m`wandb login --relogin`\u001b[0m to force relogin\n"
     ]
    },
    {
     "data": {
      "text/html": [
       "Tracking run with wandb version 0.13.9"
      ],
      "text/plain": [
       "<IPython.core.display.HTML object>"
      ]
     },
     "metadata": {},
     "output_type": "display_data"
    },
    {
     "data": {
      "text/html": [
       "Run data is saved locally in <code>/n/fs/nlp-jy1682/learnx2/wandb/mlops/wandb/run-20230112_181304-co7pywtj</code>"
      ],
      "text/plain": [
       "<IPython.core.display.HTML object>"
      ]
     },
     "metadata": {},
     "output_type": "display_data"
    },
    {
     "data": {
      "text/html": [
       "Syncing run <strong><a href=\"https://wandb.ai/jy-princeton/mlops-course-001/runs/co7pywtj\" target=\"_blank\">desert-leaf-1</a></strong> to <a href=\"https://wandb.ai/jy-princeton/mlops-course-001\" target=\"_blank\">Weights & Biases</a> (<a href=\"https://wandb.me/run\" target=\"_blank\">docs</a>)<br/>"
      ],
      "text/plain": [
       "<IPython.core.display.HTML object>"
      ]
     },
     "metadata": {},
     "output_type": "display_data"
    },
    {
     "data": {
      "text/html": [
       " View project at <a href=\"https://wandb.ai/jy-princeton/mlops-course-001\" target=\"_blank\">https://wandb.ai/jy-princeton/mlops-course-001</a>"
      ],
      "text/plain": [
       "<IPython.core.display.HTML object>"
      ]
     },
     "metadata": {},
     "output_type": "display_data"
    },
    {
     "data": {
      "text/html": [
       " View run at <a href=\"https://wandb.ai/jy-princeton/mlops-course-001/runs/co7pywtj\" target=\"_blank\">https://wandb.ai/jy-princeton/mlops-course-001/runs/co7pywtj</a>"
      ],
      "text/plain": [
       "<IPython.core.display.HTML object>"
      ]
     },
     "metadata": {},
     "output_type": "display_data"
    }
   ],
   "source": [
    "run = wandb.init(project=param_list.WANDB_PROJECT, entity=param_list.ENTITY, job_type=\"upload\")\n",
    "raw_data_at = wandb.Artifact(param_list.RAW_DATA_AT, type=\"raw_data\")"
   ]
  },
  {
   "cell_type": "code",
   "execution_count": 16,
   "id": "e376be4d",
   "metadata": {},
   "outputs": [
    {
     "data": {
      "text/plain": [
       "ArtifactManifestEntry(path='LICENSE.txt', digest='X+6ZFkDOlnKesJCNt20yRg==', ref=None, birth_artifact_id=None, size=1594, extra={}, local_path='/u/jy1682/.local/share/wandb/artifacts/staging/tmpmz5ajp80')"
      ]
     },
     "execution_count": 16,
     "metadata": {},
     "output_type": "execute_result"
    }
   ],
   "source": [
    "raw_data_at.add_file(path/'LICENSE.txt', name='LICENSE.txt')"
   ]
  },
  {
   "cell_type": "markdown",
   "id": "a11ba519",
   "metadata": {},
   "source": [
    "Let's add the images and label masks."
   ]
  },
  {
   "cell_type": "code",
   "execution_count": 17,
   "id": "fe37d865",
   "metadata": {},
   "outputs": [
    {
     "name": "stderr",
     "output_type": "stream",
     "text": [
      "\u001b[34m\u001b[1mwandb\u001b[0m: Adding directory to artifact (/u/jy1682/.fastai/data/bdd_simple_1k/images)... Done. 2.4s\n",
      "\u001b[34m\u001b[1mwandb\u001b[0m: Adding directory to artifact (/u/jy1682/.fastai/data/bdd_simple_1k/labels)... Done. 1.5s\n"
     ]
    }
   ],
   "source": [
    "raw_data_at.add_dir(path/'images', name='images')\n",
    "raw_data_at.add_dir(path/'labels', name='labels')"
   ]
  },
  {
   "cell_type": "markdown",
   "id": "aed576ba",
   "metadata": {},
   "source": [
    "Let's get the file names of images in our dataset and use the function we defined above to create a W&B Table."
   ]
  },
  {
   "cell_type": "code",
   "execution_count": 18,
   "id": "b01f53dc",
   "metadata": {},
   "outputs": [],
   "source": [
    "image_files = get_image_files(path/\"images\", recurse=False)\n",
    "\n",
    "# sample a subset if DEBUG\n",
    "if DEBUG: image_files = image_files[:10]"
   ]
  },
  {
   "cell_type": "code",
   "execution_count": 20,
   "id": "bf4104de",
   "metadata": {},
   "outputs": [
    {
     "data": {
      "text/html": [
       "\n",
       "<style>\n",
       "    /* Turns off some styling */\n",
       "    progress {\n",
       "        /* gets rid of default border in Firefox and Opera. */\n",
       "        border: none;\n",
       "        /* Needs to be in here for Safari polyfill so background images work as expected. */\n",
       "        background-size: auto;\n",
       "    }\n",
       "    progress:not([value]), progress:not([value])::-webkit-progress-bar {\n",
       "        background: repeating-linear-gradient(45deg, #7e7e7e, #7e7e7e 10px, #5c5c5c 10px, #5c5c5c 20px);\n",
       "    }\n",
       "    .progress-bar-interrupted, .progress-bar-interrupted::-webkit-progress-bar {\n",
       "        background: #F44336;\n",
       "    }\n",
       "</style>\n"
      ],
      "text/plain": [
       "<IPython.core.display.HTML object>"
      ]
     },
     "metadata": {},
     "output_type": "display_data"
    },
    {
     "data": {
      "text/html": [
       "\n",
       "    <div>\n",
       "      <progress value='10' class='' max='10' style='width:300px; height:20px; vertical-align: middle;'></progress>\n",
       "      100.00% [10/10 00:02&lt;00:00]\n",
       "    </div>\n",
       "    "
      ],
      "text/plain": [
       "<IPython.core.display.HTML object>"
      ]
     },
     "metadata": {},
     "output_type": "display_data"
    }
   ],
   "source": [
    "table = _create_table(image_files, param_list.BDD_CLASSES)"
   ]
  },
  {
   "cell_type": "markdown",
   "id": "08080ade",
   "metadata": {},
   "source": [
    "Finally, we will add the Table to our Artifact, log it to W&B and finish our `run`."
   ]
  },
  {
   "cell_type": "code",
   "execution_count": 21,
   "id": "adf9784d",
   "metadata": {},
   "outputs": [
    {
     "data": {
      "text/plain": [
       "ArtifactManifestEntry(path='eda_table.table.json', digest='jBl86+rHgVaVvTchjGMy/w==', ref=None, birth_artifact_id=None, size=7692, extra={}, local_path='/u/jy1682/.local/share/wandb/artifacts/staging/tmpkfecp1r5')"
      ]
     },
     "execution_count": 21,
     "metadata": {},
     "output_type": "execute_result"
    }
   ],
   "source": [
    "raw_data_at.add(table, \"eda_table\")"
   ]
  },
  {
   "cell_type": "code",
   "execution_count": 22,
   "id": "4a4a9738",
   "metadata": {},
   "outputs": [
    {
     "data": {
      "text/html": [
       "Waiting for W&B process to finish... <strong style=\"color:green\">(success).</strong>"
      ],
      "text/plain": [
       "<IPython.core.display.HTML object>"
      ]
     },
     "metadata": {},
     "output_type": "display_data"
    },
    {
     "data": {
      "text/html": [
       " View run <strong style=\"color:#cdcd00\">desert-leaf-1</strong> at: <a href=\"https://wandb.ai/jy-princeton/mlops-course-001/runs/co7pywtj\" target=\"_blank\">https://wandb.ai/jy-princeton/mlops-course-001/runs/co7pywtj</a><br/>Synced 6 W&B file(s), 0 media file(s), 2027 artifact file(s) and 0 other file(s)"
      ],
      "text/plain": [
       "<IPython.core.display.HTML object>"
      ]
     },
     "metadata": {},
     "output_type": "display_data"
    },
    {
     "data": {
      "text/html": [
       "Find logs at: <code>./wandb/run-20230112_181304-co7pywtj/logs</code>"
      ],
      "text/plain": [
       "<IPython.core.display.HTML object>"
      ]
     },
     "metadata": {},
     "output_type": "display_data"
    }
   ],
   "source": [
    "run.log_artifact(raw_data_at)\n",
    "run.finish()"
   ]
  },
  {
   "cell_type": "code",
   "execution_count": null,
   "id": "dcd7137e",
   "metadata": {},
   "outputs": [],
   "source": []
  }
 ],
 "metadata": {
  "kernelspec": {
   "display_name": "Python 3 (ipykernel)",
   "language": "python",
   "name": "python3"
  },
  "language_info": {
   "codemirror_mode": {
    "name": "ipython",
    "version": 3
   },
   "file_extension": ".py",
   "mimetype": "text/x-python",
   "name": "python",
   "nbconvert_exporter": "python",
   "pygments_lexer": "ipython3",
   "version": "3.8.13"
  }
 },
 "nbformat": 4,
 "nbformat_minor": 5
}
